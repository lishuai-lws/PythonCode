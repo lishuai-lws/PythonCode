{
 "metadata": {
  "language_info": {
   "codemirror_mode": {
    "name": "ipython",
    "version": 3
   },
   "file_extension": ".py",
   "mimetype": "text/x-python",
   "name": "python",
   "nbconvert_exporter": "python",
   "pygments_lexer": "ipython3",
   "version": "3.8.8-final"
  },
  "orig_nbformat": 2,
  "kernelspec": {
   "name": "python388jvsc74a57bd0f395c2e1a992dc8a929f6f371f2b4d25c07e31a6b8b09b005bd71d5c43f24d90",
   "display_name": "Python 3.8.8 64-bit ('pytorch': conda)"
  }
 },
 "nbformat": 4,
 "nbformat_minor": 2,
 "cells": [
  {
   "cell_type": "code",
   "execution_count": 2,
   "metadata": {},
   "outputs": [
    {
     "output_type": "stream",
     "name": "stdout",
     "text": [
      "Series([], dtype: float64)\n",
      "<ipython-input-2-d3c7f5829999>:2: DeprecationWarning: The default dtype for empty Series will be 'object' instead of 'float64' in a future version. Specify a dtype explicitly to silence this warning.\n",
      "  s= pd.Series()\n"
     ]
    }
   ],
   "source": [
    "# 导入包\n",
    "import pandas as pd \n",
    "\n",
    "s= pd.Series()\n",
    "print(s)"
   ]
  },
  {
   "source": [
    "import numpy as np \n",
    "# 从ndarray创建一个Series\n",
    "data = np.array(['a','b','c','d'])\n",
    "s = pd.Series(data)\n",
    "print(s)"
   ],
   "cell_type": "code",
   "metadata": {},
   "execution_count": 5,
   "outputs": [
    {
     "output_type": "stream",
     "name": "stdout",
     "text": [
      "0    a\n1    b\n2    c\n3    d\ndtype: object\n"
     ]
    }
   ]
  },
  {
   "cell_type": "code",
   "execution_count": 8,
   "metadata": {},
   "outputs": [
    {
     "output_type": "stream",
     "name": "stdout",
     "text": [
      "100    a\n101    b\n102    c\n103    d\ndtype: object\n"
     ]
    }
   ],
   "source": [
    "# 传递索引值，要不不给，要不给够\n",
    "s= pd.Series(data,index=[100,101,102,103])\n",
    "print(s)"
   ]
  },
  {
   "cell_type": "code",
   "execution_count": null,
   "metadata": {},
   "outputs": [],
   "source": []
  }
 ]
}