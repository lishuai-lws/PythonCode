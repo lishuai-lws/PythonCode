{
 "metadata": {
  "language_info": {
   "codemirror_mode": {
    "name": "ipython",
    "version": 3
   },
   "file_extension": ".py",
   "mimetype": "text/x-python",
   "name": "python",
   "nbconvert_exporter": "python",
   "pygments_lexer": "ipython3",
   "version": "3.8.8-final"
  },
  "orig_nbformat": 2,
  "kernelspec": {
   "name": "python388jvsc74a57bd0f395c2e1a992dc8a929f6f371f2b4d25c07e31a6b8b09b005bd71d5c43f24d90",
   "display_name": "Python 3.8.8 64-bit ('pytorch': conda)"
  },
  "metadata": {
   "interpreter": {
    "hash": "8fc180df7037a0f6f83e649e64691a0c9c15e66ba9b2c5ae8800d4e6804b1508"
   }
  }
 },
 "nbformat": 4,
 "nbformat_minor": 2,
 "cells": [
  {
   "cell_type": "code",
   "execution_count": 3,
   "metadata": {},
   "outputs": [],
   "source": [
    "import torch\n",
    "import numpy as np\n",
    "import os\n",
    "import pandas as pd\n",
    "import random\n",
    "import torch.nn as nn\n"
   ]
  },
  {
   "cell_type": "code",
   "execution_count": 4,
   "metadata": {},
   "outputs": [],
   "source": [
    "SEED = 42\n",
    "def set_seed(seed=SEED):\n",
    "    random.seed(seed)\n",
    "    np.random.seed(seed)\n",
    "    torch.manual_seed(seed)\n",
    "    torch.cuda.manual_seed(seed)\n",
    "    torch.backends.cudnn.deterministic = True\n",
    "set_seed()"
   ]
  },
  {
   "cell_type": "code",
   "execution_count": 11,
   "metadata": {},
   "outputs": [
    {
     "output_type": "stream",
     "name": "stdout",
     "text": [
      "       label  pixel0  pixel1  pixel2  pixel3  pixel4  pixel5  pixel6  pixel7  \\\n0        1.0     0.0     0.0     0.0     0.0     0.0     0.0     0.0     0.0   \n1        0.0     0.0     0.0     0.0     0.0     0.0     0.0     0.0     0.0   \n2        1.0     0.0     0.0     0.0     0.0     0.0     0.0     0.0     0.0   \n3        4.0     0.0     0.0     0.0     0.0     0.0     0.0     0.0     0.0   \n4        0.0     0.0     0.0     0.0     0.0     0.0     0.0     0.0     0.0   \n...      ...     ...     ...     ...     ...     ...     ...     ...     ...   \n41995    0.0     0.0     0.0     0.0     0.0     0.0     0.0     0.0     0.0   \n41996    1.0     0.0     0.0     0.0     0.0     0.0     0.0     0.0     0.0   \n41997    7.0     0.0     0.0     0.0     0.0     0.0     0.0     0.0     0.0   \n41998    6.0     0.0     0.0     0.0     0.0     0.0     0.0     0.0     0.0   \n41999    9.0     0.0     0.0     0.0     0.0     0.0     0.0     0.0     0.0   \n\n       pixel8  ...  pixel774  pixel775  pixel776  pixel777  pixel778  \\\n0         0.0  ...       0.0       0.0       0.0       0.0       0.0   \n1         0.0  ...       0.0       0.0       0.0       0.0       0.0   \n2         0.0  ...       0.0       0.0       0.0       0.0       0.0   \n3         0.0  ...       0.0       0.0       0.0       0.0       0.0   \n4         0.0  ...       0.0       0.0       0.0       0.0       0.0   \n...       ...  ...       ...       ...       ...       ...       ...   \n41995     0.0  ...       0.0       0.0       0.0       0.0       0.0   \n41996     0.0  ...       0.0       0.0       0.0       0.0       0.0   \n41997     0.0  ...       0.0       0.0       0.0       0.0       0.0   \n41998     0.0  ...       0.0       0.0       0.0       0.0       0.0   \n41999     0.0  ...       0.0       0.0       0.0       0.0       0.0   \n\n       pixel779  pixel780  pixel781  pixel782  pixel783  \n0           0.0       0.0       0.0       0.0       0.0  \n1           0.0       0.0       0.0       0.0       0.0  \n2           0.0       0.0       0.0       0.0       0.0  \n3           0.0       0.0       0.0       0.0       0.0  \n4           0.0       0.0       0.0       0.0       0.0  \n...         ...       ...       ...       ...       ...  \n41995       0.0       0.0       0.0       0.0       0.0  \n41996       0.0       0.0       0.0       0.0       0.0  \n41997       0.0       0.0       0.0       0.0       0.0  \n41998       0.0       0.0       0.0       0.0       0.0  \n41999       0.0       0.0       0.0       0.0       0.0  \n\n[42000 rows x 785 columns]\n"
     ]
    }
   ],
   "source": [
    "# 训练数据路径\n",
    "train_df = pd.read_csv(\"../data/mnist/train.csv\",dtype=np.float32)\n",
    "print(train_df)"
   ]
  }
 ]
}