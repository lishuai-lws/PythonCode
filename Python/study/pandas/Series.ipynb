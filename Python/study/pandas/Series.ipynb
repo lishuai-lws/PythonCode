{
 "metadata": {
  "language_info": {
   "codemirror_mode": {
    "name": "ipython",
    "version": 3
   },
   "file_extension": ".py",
   "mimetype": "text/x-python",
   "name": "python",
   "nbconvert_exporter": "python",
   "pygments_lexer": "ipython3",
   "version": "3.8.8-final"
  },
  "orig_nbformat": 2,
  "kernelspec": {
   "name": "python388jvsc74a57bd0f395c2e1a992dc8a929f6f371f2b4d25c07e31a6b8b09b005bd71d5c43f24d90",
   "display_name": "Python 3.8.8 64-bit ('pytorch': conda)"
  }
 },
 "nbformat": 4,
 "nbformat_minor": 2,
 "cells": [
  {
   "source": [
    "# Series"
   ],
   "cell_type": "markdown",
   "metadata": {}
  },
  {
   "cell_type": "code",
   "execution_count": 6,
   "metadata": {},
   "outputs": [
    {
     "output_type": "stream",
     "name": "stdout",
     "text": [
      "Series([], dtype: float64)\n",
      "<ipython-input-6-22e1d82d71ae>:4: DeprecationWarning: The default dtype for empty Series will be 'object' instead of 'float64' in a future version. Specify a dtype explicitly to silence this warning.\n",
      "  s= pd.Series()\n"
     ]
    }
   ],
   "source": [
    "# 导入包\n",
    "import pandas as pd \n",
    "import numpy as np \n",
    "\n",
    "s= pd.Series()\n",
    "print(s)"
   ]
  },
  {
   "source": [
    "# 从ndarray创建一个Series\n",
    "data = np.array(['a','b','c','d'])\n",
    "s = pd.Series(data)\n",
    "print(s)"
   ],
   "cell_type": "code",
   "metadata": {},
   "execution_count": 7,
   "outputs": [
    {
     "output_type": "stream",
     "name": "stdout",
     "text": [
      "0    a\n1    b\n2    c\n3    d\ndtype: object\n"
     ]
    }
   ]
  },
  {
   "cell_type": "code",
   "execution_count": 8,
   "metadata": {},
   "outputs": [
    {
     "output_type": "stream",
     "name": "stdout",
     "text": [
      "100    a\n101    b\n102    c\n103    d\ndtype: object\n"
     ]
    }
   ],
   "source": [
    "# 传递索引值，要不不给，要不给够\n",
    "s= pd.Series(data,index=[100,101,102,103])\n",
    "print(s)"
   ]
  },
  {
   "cell_type": "code",
   "execution_count": 9,
   "metadata": {},
   "outputs": [
    {
     "output_type": "stream",
     "name": "stdout",
     "text": [
      "a    0.0\nb    1.0\nc    2.0\ndtype: float64\n"
     ]
    }
   ],
   "source": [
    "# 从字典创建一个Series,字典键作为索引\n",
    "data = {'a':0.,'b':1.,'c':2.}\n",
    "s = pd.Series(data)\n",
    "print(s)"
   ]
  },
  {
   "cell_type": "code",
   "execution_count": 10,
   "metadata": {},
   "outputs": [
    {
     "output_type": "stream",
     "name": "stdout",
     "text": [
      "b    1.0\nc    2.0\nd    NaN\na    0.0\ndtype: float64\n"
     ]
    }
   ],
   "source": [
    "# 传递索引后，顺序为索引顺序\n",
    "s = pd.Series(data,index=['b','c','d','a'])\n",
    "print(s)"
   ]
  },
  {
   "cell_type": "code",
   "execution_count": 11,
   "metadata": {},
   "outputs": [
    {
     "output_type": "stream",
     "name": "stdout",
     "text": [
      "0    5\n1    5\n2    5\n3    5\ndtype: int64\n"
     ]
    }
   ],
   "source": [
    "# 标量创建一个Series，必须提供索引，复制标量，填充所有索引\n",
    "s = pd.Series(5,index=[0,1,2,3])\n",
    "print(s)"
   ]
  },
  {
   "source": [
    "## 访问Series数据\n"
   ],
   "cell_type": "markdown",
   "metadata": {}
  },
  {
   "cell_type": "code",
   "execution_count": 13,
   "metadata": {},
   "outputs": [
    {
     "output_type": "stream",
     "name": "stdout",
     "text": [
      "1\n"
     ]
    }
   ],
   "source": [
    "# 通过位置访问Series数据\n",
    "s = pd.Series([1,2,3,4,5],index=['a','b','c','d','e'])\n",
    "\n",
    "print(s[0])"
   ]
  }
 ]
}