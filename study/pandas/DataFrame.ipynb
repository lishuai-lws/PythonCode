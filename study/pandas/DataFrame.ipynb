{
 "metadata": {
  "language_info": {
   "codemirror_mode": {
    "name": "ipython",
    "version": 3
   },
   "file_extension": ".py",
   "mimetype": "text/x-python",
   "name": "python",
   "nbconvert_exporter": "python",
   "pygments_lexer": "ipython3",
   "version": "3.8.8-final"
  },
  "orig_nbformat": 2,
  "kernelspec": {
   "name": "python388jvsc74a57bd0f395c2e1a992dc8a929f6f371f2b4d25c07e31a6b8b09b005bd71d5c43f24d90",
   "display_name": "Python 3.8.8 64-bit ('pytorch': conda)"
  }
 },
 "nbformat": 4,
 "nbformat_minor": 2,
 "cells": [
  {
   "source": [
    "# DataFrame"
   ],
   "cell_type": "markdown",
   "metadata": {}
  },
  {
   "cell_type": "code",
   "execution_count": 1,
   "metadata": {},
   "outputs": [],
   "source": [
    "import pandas as pd "
   ]
  },
  {
   "source": [
    "## 创建DataFrame"
   ],
   "cell_type": "markdown",
   "metadata": {}
  },
  {
   "cell_type": "code",
   "execution_count": 2,
   "metadata": {},
   "outputs": [
    {
     "output_type": "stream",
     "name": "stdout",
     "text": [
      "Empty DataFrame\nColumns: []\nIndex: []\n"
     ]
    }
   ],
   "source": [
    "# 创建空的DAtaFrame\n",
    "df = pd.DataFrame()\n",
    "print(df)"
   ]
  },
  {
   "cell_type": "code",
   "execution_count": 3,
   "metadata": {},
   "outputs": [
    {
     "output_type": "stream",
     "name": "stdout",
     "text": [
      "   0\n0  1\n1  2\n2  3\n3  4\n4  5\n"
     ]
    }
   ],
   "source": [
    "# 由单个列表创建DataFrame\n",
    "data = [1,2,3,4,5]\n",
    "df = pd.DataFrame(data)\n",
    "print(df)"
   ]
  },
  {
   "cell_type": "code",
   "execution_count": 4,
   "metadata": {},
   "outputs": [
    {
     "output_type": "stream",
     "name": "stdout",
     "text": [
      "     Name  Age\n0    Alex   10\n1     Bob   12\n2  Clarke   13\n"
     ]
    }
   ],
   "source": [
    "#二维列表创建DataFrame\n",
    "data = [['Alex',10],['Bob',12],['Clarke',13]]\n",
    "df = pd.DataFrame(data,columns=['Name','Age'])\n",
    "print(df)"
   ]
  },
  {
   "cell_type": "code",
   "execution_count": 5,
   "metadata": {},
   "outputs": [
    {
     "output_type": "stream",
     "name": "stdout",
     "text": [
      "     Name   Age\n0    Alex  10.0\n1     Bob  12.0\n2  Clarke  13.0\n"
     ]
    }
   ],
   "source": [
    "# 指定dtype\n",
    "df = pd.DataFrame(data,columns=['Name','Age'],dtype=float)\n",
    "print(df)"
   ]
  },
  {
   "cell_type": "code",
   "execution_count": 6,
   "metadata": {},
   "outputs": [
    {
     "output_type": "stream",
     "name": "stdout",
     "text": [
      "    name  Age\n0    Tom   28\n1   Jack   34\n2  Steve   28\n3  Ricky   45\n"
     ]
    }
   ],
   "source": [
    "# 从 ndarrays/Lists 的字典来创建 DataFrame\n",
    "data = {'name':['Tom','Jack','Steve','Ricky'],'Age':[28,34,28,45]}\n",
    "df = pd.DataFrame(data)\n",
    "print(df)"
   ]
  },
  {
   "cell_type": "code",
   "execution_count": 8,
   "metadata": {},
   "outputs": [
    {
     "output_type": "stream",
     "name": "stdout",
     "text": [
      "        name  Age\nrank1    Tom   28\nrank2   Jack   34\nrank3  Steve   28\nrank4  Ricky   45\n"
     ]
    }
   ],
   "source": [
    "# 使用列表作为索引，创建一个数据帧\n",
    "df = pd.DataFrame(data,index=['rank1','rank2','rank3','rank4'])\n",
    "print(df)"
   ]
  },
  {
   "cell_type": "code",
   "execution_count": 9,
   "metadata": {},
   "outputs": [
    {
     "output_type": "stream",
     "name": "stdout",
     "text": [
      "   a   b     c\n0  1   2   NaN\n1  5  10  20.0\n"
     ]
    }
   ],
   "source": [
    "# 从字典列表创建 DataFrame\n",
    "data = [{'a':1,'b':2},{'a':5,'b':10,'c':20}]\n",
    "df = pd.DataFrame(data)\n",
    "print(df)"
   ]
  },
  {
   "cell_type": "code",
   "execution_count": 11,
   "metadata": {},
   "outputs": [
    {
     "output_type": "stream",
     "name": "stdout",
     "text": [
      "        a   b     c\nFirst   1   2   NaN\nSecond  5  10  20.0\n"
     ]
    }
   ],
   "source": [
    "# 传递字典列表和行索引来创建数据帧\n",
    "df = pd.DataFrame(data,index=['First','Second'])\n",
    "print(df)"
   ]
  },
  {
   "cell_type": "code",
   "execution_count": 12,
   "metadata": {},
   "outputs": [
    {
     "output_type": "stream",
     "name": "stdout",
     "text": [
      "        a   b\nFirst   1   2\nSecond  5  10\n        a     c\nFirst   1   NaN\nSecond  5  20.0\n"
     ]
    }
   ],
   "source": [
    "# 使用字典，行索引和列索引列表创建数据帧(DataFrame)。\n",
    "df1 = pd.DataFrame(data,index=['First','Second'],columns=['a','b'])\n",
    "\n",
    "df2 = pd.DataFrame(data,index=['First','Second'],columns=['a','c'])\n",
    "print(df1)\n",
    "print(df2)"
   ]
  },
  {
   "cell_type": "code",
   "execution_count": 14,
   "metadata": {},
   "outputs": [
    {
     "output_type": "stream",
     "name": "stdout",
     "text": [
      "   one  two\na  1.0    1\nb  2.0    2\nc  3.0    3\nd  NaN    4\n"
     ]
    }
   ],
   "source": [
    "# 从 Series 字典来创建 DataFrame\n",
    "d={\n",
    "    'one':pd.Series([1,2,3],index=['a','b','c']),\n",
    "    'two':pd.Series([1,2,3,4],index=['a','b','c','d'])\n",
    "}\n",
    "df= pd.DataFrame(d)\n",
    "print(df)"
   ]
  },
  {
   "source": [
    "## 操作"
   ],
   "cell_type": "markdown",
   "metadata": {}
  },
  {
   "cell_type": "code",
   "execution_count": 15,
   "metadata": {},
   "outputs": [
    {
     "output_type": "stream",
     "name": "stdout",
     "text": [
      "a    1.0\nb    2.0\nc    3.0\nd    NaN\nName: one, dtype: float64\n"
     ]
    }
   ],
   "source": [
    "# 读取一列\n",
    "print(df['one'])"
   ]
  },
  {
   "cell_type": "code",
   "execution_count": 16,
   "metadata": {},
   "outputs": [
    {
     "output_type": "stream",
     "name": "stdout",
     "text": [
      "   one  two\na  1.0    1\nb  2.0    2\nc  3.0    3\nd  NaN    4\n   one  two  three\na  1.0    1   10.0\nb  2.0    2   20.0\nc  3.0    3   30.0\nd  NaN    4    NaN\n"
     ]
    }
   ],
   "source": [
    "# 添加列\n",
    "print(df)\n",
    "df['three']=pd.Series([10,20,30],index=['a','b','c'])\n",
    "print(df)"
   ]
  },
  {
   "cell_type": "code",
   "execution_count": 17,
   "metadata": {},
   "outputs": [
    {
     "output_type": "stream",
     "name": "stdout",
     "text": [
      "   one  two  three\na  1.0    1   10.0\nb  2.0    2   20.0\nc  3.0    3   30.0\nd  NaN    4    NaN\n删除一列\n   two  three\na    1   10.0\nb    2   20.0\nc    3   30.0\nd    4    NaN\n再删除一列\n   three\na   10.0\nb   20.0\nc   30.0\nd    NaN\n"
     ]
    }
   ],
   "source": [
    "# 删除列\n",
    "print(df)\n",
    "\n",
    "\n",
    "print('删除一列')\n",
    "del df['one']\n",
    "print(df)\n",
    "print('再删除一列')\n",
    "df.pop('two')\n",
    "print(df)"
   ]
  },
  {
   "cell_type": "code",
   "execution_count": 18,
   "metadata": {},
   "outputs": [
    {
     "output_type": "stream",
     "name": "stdout",
     "text": [
      "   one  two\na  1.0    1\nb  2.0    2\nc  3.0    3\nd  NaN    4\none    2.0\ntwo    2.0\nName: b, dtype: float64\n"
     ]
    }
   ],
   "source": [
    "# 读取行\n",
    "# 按索引选择\n",
    "d = {'one' : pd.Series([1, 2, 3], index=['a', 'b', 'c']), \n",
    "     'two' : pd.Series([1, 2, 3, 4], index=['a', 'b', 'c', 'd'])}\n",
    "df = pd.DataFrame(d)\n",
    "print(df)\n",
    "print(df.loc['b'])"
   ]
  },
  {
   "cell_type": "code",
   "execution_count": 21,
   "metadata": {},
   "outputs": [
    {
     "output_type": "stream",
     "name": "stdout",
     "text": [
      "one    3.0\ntwo    3.0\nName: c, dtype: float64\n"
     ]
    }
   ],
   "source": [
    "# 按位置选择\n",
    "print(df.iloc[2])"
   ]
  },
  {
   "cell_type": "code",
   "execution_count": 24,
   "metadata": {},
   "outputs": [
    {
     "output_type": "stream",
     "name": "stdout",
     "text": [
      "   one  two\nc  3.0    3\nd  NaN    4\n"
     ]
    }
   ],
   "source": [
    "# 选择多行\n",
    "print(df[2:4])"
   ]
  },
  {
   "cell_type": "code",
   "execution_count": 25,
   "metadata": {},
   "outputs": [
    {
     "output_type": "stream",
     "name": "stdout",
     "text": [
      "   a  b\n0  1  2\n1  3  4\n0  5  6\n1  7  8\n"
     ]
    }
   ],
   "source": [
    "# 添加行\n",
    "df = pd.DataFrame([[1,2],[3,4]],columns = ['a','b'])\n",
    "df2 = pd.DataFrame([[5,6],[7,8]],columns = ['a','b'])\n",
    "\n",
    "df = df.append(df2)\n",
    "print(df)"
   ]
  },
  {
   "cell_type": "code",
   "execution_count": 26,
   "metadata": {},
   "outputs": [
    {
     "output_type": "stream",
     "name": "stdout",
     "text": [
      "   a  b\n0  1  2\n1  3  4\n0  5  6\n1  7  8\n-------------\n   a  b\n1  3  4\n1  7  8\n"
     ]
    }
   ],
   "source": [
    "# 删除行\n",
    "# 使用索引标签从 DataFrame 中删除行。 如果标签重复，则会删除多行。\n",
    "print(df)\n",
    "print('-------------')\n",
    "df =df.drop(0)\n",
    "print(df)"
   ]
  }
 ]
}