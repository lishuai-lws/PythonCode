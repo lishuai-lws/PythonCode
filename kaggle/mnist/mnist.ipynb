{
 "cells": [
  {
   "cell_type": "code",
   "execution_count": 21,
   "metadata": {},
   "outputs": [],
   "source": [
    "import torch\n",
    "import numpy as np\n",
    "import os\n",
    "import pandas as pd\n",
    "import random\n",
    "import torch.nn as nn\n",
    "from sklearn.model_selection import train_test_split\n",
    "from torch.utils.data import DataLoader,Dataset\n",
    "import matplotlib.pyplot as plt \n",
    "from torchvision import transforms,models"
   ]
  },
  {
   "cell_type": "code",
   "execution_count": 22,
   "metadata": {},
   "outputs": [],
   "source": [
    "SEED = 42\n",
    "def set_seed(seed=SEED):\n",
    "    random.seed(seed)\n",
    "    np.random.seed(seed)\n",
    "    torch.manual_seed(seed)\n",
    "    torch.cuda.manual_seed(seed)\n",
    "    torch.backends.cudnn.deterministic = True\n",
    "set_seed()"
   ]
  },
  {
   "cell_type": "code",
   "execution_count": 23,
   "metadata": {},
   "outputs": [],
   "source": [
    "# 训练数据路径\n",
    "train_df = pd.read_csv(\"../data/mnist/train.csv\",dtype=np.float32)\n",
    "# print(train_df.dtypes)\n",
    "# 取出数据中的标签\n",
    "labels = train_df.pop('label').astype('int64')\n",
    "# print(labels.dtype)"
   ]
  },
  {
   "cell_type": "code",
   "execution_count": 24,
   "metadata": {},
   "outputs": [],
   "source": [
    "train_df = train_df/255.0\n",
    "# print(train_df.dtypes)\n",
    "# print(type(train_df))\n",
    "# 转为numpy.ndarray类型，notebook运行时要全部运行，不然会出现已经是numpy.ndarray的错误\n",
    "train_df = train_df.to_numpy()\n",
    "labels = labels.to_numpy()\n",
    "\n",
    "# 输入转为28*28*1，输出转为1维\n",
    "train_df = train_df.reshape(-1,28,28,1)\n",
    "labels = labels.reshape(-1,1)\n",
    "# print(type(train_df))\n",
    "# print(labels)"
   ]
  },
  {
   "cell_type": "code",
   "execution_count": 25,
   "metadata": {},
   "outputs": [],
   "source": [
    "# 划分训练集和测试集\n",
    "x_train,x_val,y_train,y_val = train_test_split(train_df,labels,test_size=0.2,random_state=SEED)\n",
    "# print('y_train:',y_train)\n",
    "# print('y_val:',y_val)"
   ]
  },
  {
   "cell_type": "code",
   "execution_count": 26,
   "metadata": {},
   "outputs": [],
   "source": [
    "# 创建数据集的类\n",
    "class MNISTDataset(Dataset):\n",
    "    def __init__(self,images,labels):\n",
    "        self.images = images\n",
    "        self.labels = labels\n",
    "        self.transform = transforms.Compose([transforms.ToTensor()])\n",
    "    def __getitem__(self,index):\n",
    "        label = self.labels[index]\n",
    "        image = self.images[index]\n",
    "        image = self.transform(image)\n",
    "        \n",
    "        image = image.repeat(3,1,1)\n",
    "        # image.size(3,28,28)        \n",
    "        return image,label\n",
    "    def __len__(self):\n",
    "        return len(self.images)"
   ]
  },
  {
   "cell_type": "code",
   "execution_count": 27,
   "metadata": {},
   "outputs": [],
   "source": [
    "# 创建数据集\n",
    "train_data = MNISTDataset(x_train,y_train)\n",
    "val_data = MNISTDataset(x_val,y_val)"
   ]
  },
  {
   "cell_type": "code",
   "execution_count": 28,
   "metadata": {},
   "outputs": [],
   "source": [
    "# 设置batch_size\n",
    "BATCH_SIZE = 64"
   ]
  },
  {
   "cell_type": "code",
   "execution_count": 29,
   "metadata": {},
   "outputs": [],
   "source": [
    "# 加载数据集\n",
    "train_loader = DataLoader(train_data,batch_size=BATCH_SIZE,shuffle=True)\n",
    "val_loader = DataLoader(val_data,batch_size=BATCH_SIZE)"
   ]
  },
  {
   "cell_type": "code",
   "execution_count": 30,
   "metadata": {},
   "outputs": [
    {
     "name": "stdout",
     "output_type": "stream",
     "text": [
      "cpu\n"
     ]
    }
   ],
   "source": [
    "device = torch.device('cuda:0' if torch.cuda.is_available() else 'cpu')\n",
    "print(device)"
   ]
  },
  {
   "cell_type": "code",
   "execution_count": 31,
   "metadata": {},
   "outputs": [],
   "source": [
    "NUM_CLASSES=10\n",
    "EPOCHS=30"
   ]
  },
  {
   "cell_type": "code",
   "execution_count": 1,
   "metadata": {},
   "outputs": [
    {
     "ename": "NameError",
     "evalue": "name 'models' is not defined",
     "output_type": "error",
     "traceback": [
      "\u001b[1;31m---------------------------------------------------------------------------\u001b[0m",
      "\u001b[1;31mNameError\u001b[0m                                 Traceback (most recent call last)",
      "\u001b[1;32m<ipython-input-1-53b590b18bf9>\u001b[0m in \u001b[0;36m<module>\u001b[1;34m\u001b[0m\n\u001b[0;32m      1\u001b[0m \u001b[1;31m# 加载resnet模型，并进行预训练\u001b[0m\u001b[1;33m\u001b[0m\u001b[1;33m\u001b[0m\u001b[1;33m\u001b[0m\u001b[0m\n\u001b[1;32m----> 2\u001b[1;33m \u001b[0mmodel\u001b[0m \u001b[1;33m=\u001b[0m \u001b[0mmodels\u001b[0m\u001b[1;33m.\u001b[0m\u001b[0mresnet18\u001b[0m\u001b[1;33m(\u001b[0m\u001b[0mpretrained\u001b[0m\u001b[1;33m=\u001b[0m\u001b[1;32mTrue\u001b[0m\u001b[1;33m)\u001b[0m\u001b[1;33m\u001b[0m\u001b[1;33m\u001b[0m\u001b[0m\n\u001b[0m\u001b[0;32m      3\u001b[0m \u001b[1;31m# 获取fc层中固定的参数\u001b[0m\u001b[1;33m\u001b[0m\u001b[1;33m\u001b[0m\u001b[1;33m\u001b[0m\u001b[0m\n\u001b[0;32m      4\u001b[0m \u001b[0mnum_ftrs\u001b[0m \u001b[1;33m=\u001b[0m \u001b[0mmodel\u001b[0m\u001b[1;33m.\u001b[0m\u001b[0mfc\u001b[0m\u001b[1;33m.\u001b[0m\u001b[0min_features\u001b[0m\u001b[1;33m\u001b[0m\u001b[1;33m\u001b[0m\u001b[0m\n\u001b[0;32m      5\u001b[0m \u001b[1;31m# 修改为分类类别\u001b[0m\u001b[1;33m\u001b[0m\u001b[1;33m\u001b[0m\u001b[1;33m\u001b[0m\u001b[0m\n",
      "\u001b[1;31mNameError\u001b[0m: name 'models' is not defined"
     ]
    }
   ],
   "source": [
    "# 加载resnet模型，并进行预训练\n",
    "model = models.resnet18(pretrained=True)\n",
    "# 获取fc层中固定的参数\n",
    "num_ftrs = model.fc.in_features\n",
    "# 修改为分类类别\n",
    "model.fc = nn.Linear(num_ftrs,NUM_CLASSES)\n",
    "model.to(device)"
   ]
  },
  {
   "cell_type": "code",
   "execution_count": 33,
   "metadata": {},
   "outputs": [
    {
     "name": "stdout",
     "output_type": "stream",
     "text": [
      "Adjusting learning rate of group 0 to 1.0000e-03.\n"
     ]
    }
   ],
   "source": [
    "# 设置损失函数为交叉熵损失函数\n",
    "criterion = nn.CrossEntropyLoss()\n",
    "# 优化器 Adam是一种自适应学习率的优化方法，Adam利用梯度的一阶矩估计和二阶矩估计动态的调整学习率。\n",
    "# amsgrad- 是否采用AMSGrad优化方法，asmgrad优化方法是针对Adam的改进，通过添加额外的约束，使学习率始终为正值。\n",
    "optimizer = torch.optim.Adam(model.parameters(),amsgrad=True)\n",
    "# Decays the learning rate of each parameter group by gamma every step_size epochs. \n",
    "xp_lr_scheduler = torch.optim.lr_scheduler.StepLR(optimizer,step_size=3,gamma=0.1,verbose=True)"
   ]
  },
  {
   "cell_type": "code",
   "execution_count": null,
   "metadata": {},
   "outputs": [],
   "source": [
    "# 训练模型\n",
    "for epoch in range(EPOCHS):\n",
    "    for i,(images,labels) in enumerate(train_loader):\n",
    "        # 可以使用gpu\n",
    "        images = images.to(device)\n",
    "        labels = labels.to(device)\n",
    "        # Forward\n",
    "        # 梯度清零\n",
    "        optimizer.zero_grad()\n",
    "        # 输入模型计算预测值\n",
    "        pred = model(images)\n",
    "        # 计算损失\n",
    "        loss = criterion(pred,labels.flatten())\n",
    "\n",
    "        # backward and optimize \n",
    "        # 损失传递\n",
    "        loss.backward()\n",
    "        # 更新\n",
    "        optimizer.step()\n",
    "\n",
    "        if (i+1) % 300 == 0:\n",
    "            print(f'Epoch:{epoch+1}/{EPOCHS},Loss:{loss.item()}')\n",
    "    \n",
    "    xp_lr_scheduler.step()\n",
    "# 测试时，不启用 Batch Normalization 和 Dropout。调用model.eval()\n",
    "mode.eval()\n",
    "with torch.no_grad():\n",
    "    currect =0\n",
    "    total = 0\n",
    "    for images,labels in val_loader:\n",
    "        images = images.to(device)\n",
    "        labels = labels.to(device)\n",
    "\n",
    "        outputs = model(images)\n",
    "        按行取最大值，predicted里保存index\n",
    "        _,predicted = torch.max(outputs,1)\n",
    "        total += labels.size(0)\n",
    "        currect += (predicted == labels.flatten()).sum()\n",
    "    \n",
    "    print(f'Validation acc :{100 * currect/total}')"
   ]
  },
  {
   "cell_type": "code",
   "execution_count": null,
   "metadata": {},
   "outputs": [],
   "source": [
    "# Submit result\n",
    "# test_df = pd.read_csv('../data/mnist/test.csv',dtype=np.float32)\n",
    "# test_df = test_df.to_numpu()/255.0\n",
    "# test_df = test_df.reshape(-1,28,28,1)\n",
    "# test_tensor = torch.from_numpy(test_df).permute(0, 3, 1, 2)\n",
    "# test_tensor = test_tensor.repeat(1, 3, 1, 1)\n",
    "# images= test_tensor.to(device)\n",
    "# outputs = model(images)\n",
    "# _, predictions = torch.max(outputs, 1)\n",
    "# predictions = predictions.cpu()\n",
    "# submission = pd.DataFrame({'ImageId': np.arange(1, (predictions.size(0) + 1)), 'Label': predictions})\n",
    "# submission.to_csv(\"submission.csv\", index = False)"
   ]
  }
 ],
 "metadata": {
  "kernelspec": {
   "display_name": "Python [conda env:pytorchgpu]",
   "language": "python",
   "name": "conda-env-pytorchgpu-py"
  },
  "language_info": {
   "codemirror_mode": {
    "name": "ipython",
    "version": 3
   },
   "file_extension": ".py",
   "mimetype": "text/x-python",
   "name": "python",
   "nbconvert_exporter": "python",
   "pygments_lexer": "ipython3",
   "version": "3.9.2"
  },
  "metadata": {
   "interpreter": {
    "hash": "4372cc4509884048609835f11ddb002765d8a5cbb3f0ce06e752c8f492c66fa9"
   }
  }
 },
 "nbformat": 4,
 "nbformat_minor": 2
}
