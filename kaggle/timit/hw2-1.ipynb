{
 "cells": [
  {
   "cell_type": "markdown",
   "id": "65a931a7",
   "metadata": {},
   "source": [
    "# Preparing Data\n",
    "Load the training and testing data from the **.npy** file (NumPy array)."
   ]
  },
  {
   "cell_type": "code",
   "execution_count": 1,
   "id": "1876306b",
   "metadata": {},
   "outputs": [
    {
     "output_type": "stream",
     "name": "stdout",
     "text": [
      "Loading data ...\n",
      "Size of training data: (1229932, 429)\n",
      "Size of testing data: (451552, 429)\n"
     ]
    }
   ],
   "source": [
    "import numpy as np\n",
    "\n",
    "print('Loading data ...')\n",
    "\n",
    "data_root = '../data/timit/'\n",
    "train = np.load(data_root + 'train_11.npy')\n",
    "train_label = np.load(data_root + 'train_label_11.npy')\n",
    "test = np.load(data_root + 'test_11.npy')\n",
    "\n",
    "print('Size of training data: {}'.format(train.shape))\n",
    "print('Size of testing data: {}'.format(test.shape))"
   ]
  },
  {
   "source": [
    "# Create Dataset"
   ],
   "cell_type": "markdown",
   "metadata": {}
  },
  {
   "cell_type": "code",
   "execution_count": 2,
   "id": "9f942973",
   "metadata": {},
   "outputs": [],
   "source": [
    "import torch\n",
    "from torch.utils.data import Dataset\n",
    "\n",
    "class TIMITDataset(Dataset):\n",
    "    def __init__(self,X,y=None):\n",
    "        self.data = torch.from_numpy(X).float()\n",
    "        if y is not None:\n",
    "            y = y.astype(np.int)\n",
    "            self.label = torch.LongTensor(y)\n",
    "        else:\n",
    "            self.label = None\n",
    "    def __gititem__(self,index):\n",
    "        if self.label is not None:\n",
    "            return self.data[index],self.label[index]\n",
    "        else:\n",
    "            return self.data[index]\n",
    "    def __len__(self):\n",
    "        return len(self.data)\n"
   ]
  },
  {
   "source": [
    "Split the labeled data into a training set and a validation set,\n",
    "you can modeify the  variable **VAL_RATIO** to change the ratio of validation data "
   ],
   "cell_type": "markdown",
   "metadata": {}
  },
  {
   "cell_type": "code",
   "execution_count": 3,
   "metadata": {},
   "outputs": [
    {
     "output_type": "stream",
     "name": "stdout",
     "text": [
      "Size of training set : (983945, 429)\nSize of validation set : (245987, 429)\n"
     ]
    }
   ],
   "source": [
    "VAL_RATIO =0.2\n",
    "\n",
    "percent = int(train.shape[0] * (1 - VAL_RATIO))         #计算训练集数量\n",
    "train_x, train_y, val_x, val_y = train[:percent], train_label[:percent], train[percent:], train_label[percent:]     #划分训练集和验证集\n",
    "print(\"Size of training set : {}\".format(train_x.shape))\n",
    "print(\"Size of validation set : {}\".format(val_x.shape))"
   ]
  },
  {
   "source": [
    "Create a dataloader  from the dataset,  "
   ],
   "cell_type": "markdown",
   "metadata": {}
  },
  {
   "cell_type": "code",
   "execution_count": 4,
   "metadata": {},
   "outputs": [],
   "source": [
    "BATCH_SIZE = 64\n",
    "from torch.utils.data import DataLoader\n",
    "\n",
    "train_set = TIMITDataset(train_x, train_y)\n",
    "val_set = TIMITDataset(val_x,val_y)\n",
    "train_loader = DataLoader(train_set,batch_size= BATCH_SIZE, shuffle=True)\n",
    "val_loader = DataLoader(val_set,batch_size=BATCH_SIZE,shuffle=False)    #验证集不用进行打乱\n"
   ]
  },
  {
   "source": [
    "Cleanup the unneeded variables to save memory.\n",
    "\n",
    "**notes: if you need to use these variables later, then you may remove this block or clean up unneeded variables later<br>the data size is quite huge, so be aware of memory usage in colab**"
   ],
   "cell_type": "markdown",
   "metadata": {}
  },
  {
   "cell_type": "code",
   "execution_count": 5,
   "metadata": {},
   "outputs": [
    {
     "output_type": "execute_result",
     "data": {
      "text/plain": [
       "21126"
      ]
     },
     "metadata": {},
     "execution_count": 5
    }
   ],
   "source": [
    "import gc\n",
    "\n",
    "del train, train_label, train_x, train_y, val_x, val_y\n",
    "gc.collect()"
   ]
  },
  {
   "source": [
    "# Create Model\n",
    "\n",
    "定义模型结构"
   ],
   "cell_type": "markdown",
   "metadata": {}
  },
  {
   "cell_type": "code",
   "execution_count": 7,
   "metadata": {},
   "outputs": [],
   "source": [
    "import torch.nn as nn\n",
    "\n",
    "class Classifier(nn.Module):\n",
    "    def __init__(self):\n",
    "        super(Classifier,self).__init__()\n",
    "        self.net = nn.Sequential(\n",
    "            nn.Linear(429,1024),\n",
    "            nn.Sigmoid(),\n",
    "            nn.Linear(1024,512),\n",
    "            nn.Sigmoid(),\n",
    "            nn.Linear(512,128),\n",
    "            nn.Sigmoid(),\n",
    "            nn.Linear(128,39)\n",
    "        )\n",
    "    def forward(self):\n",
    "        return self.net()"
   ]
  },
  {
   "source": [
    "# Training"
   ],
   "cell_type": "markdown",
   "metadata": {}
  },
  {
   "cell_type": "code",
   "execution_count": 9,
   "metadata": {},
   "outputs": [],
   "source": [
    "def get_device():\n",
    "    return 'cuda:0' if torch.cuda.is_available() else 'cpu'"
   ]
  },
  {
   "source": [
    "固定随机种子以提高可重复性。"
   ],
   "cell_type": "markdown",
   "metadata": {}
  },
  {
   "cell_type": "code",
   "execution_count": 10,
   "metadata": {},
   "outputs": [],
   "source": [
    "# fix random seed\n",
    "def same_seeds(seed):\n",
    "    torch.manual_seed(seed)\n",
    "    if torch.cuda.is_available():\n",
    "        torch.cuda.manual_seed(seed)\n",
    "        torch.cuda.manual_seed_all(seed)  \n",
    "    np.random.seed(seed)  \n",
    "    torch.backends.cudnn.benchmark = False\n",
    "    torch.backends.cudnn.deterministic = True"
   ]
  },
  {
   "source": [
    "训练参数"
   ],
   "cell_type": "markdown",
   "metadata": {}
  },
  {
   "cell_type": "code",
   "execution_count": 14,
   "metadata": {},
   "outputs": [
    {
     "output_type": "stream",
     "name": "stdout",
     "text": [
      "DEVICE:cpu\n"
     ]
    }
   ],
   "source": [
    "same_seeds(0)\n",
    "\n",
    "device = get_device()\n",
    "print(f'DEVICE:{device}')\n",
    "\n",
    "num_epoch = 20              \n",
    "learning_rate = 0.0001      #学习率\n",
    "\n",
    "model_path = '../data/timit/model.ckpt'\n",
    "\n",
    "model = Classifier().to(device)\n",
    "criterion = nn.CrossEntropyLoss()\n",
    "optimizer = torch.optim.Adam(model.parameters(), lr=learning_rate)\n"
   ]
  },
  {
   "source": [
    "training"
   ],
   "cell_type": "markdown",
   "metadata": {}
  },
  {
   "cell_type": "code",
   "execution_count": null,
   "metadata": {},
   "outputs": [],
   "source": [
    "best_acc = 0.0\n",
    "for epoch in range(num_epoch):\n",
    "    train_acc = 0.0\n",
    "    train_loss = 0.0\n",
    "    val_acc = 0.0\n",
    "    val_loss = 0.0\n",
    "    model.train()\n",
    "    for i, data in enumerate(train_loader):\n",
    "        x, y = data\n",
    "        x, y = x.to(device), y.to(device)\n",
    "        optimizer.zero_grad()\n",
    "        outputs = model(x)\n",
    "        batch_loss = criterion(outputs,y)\n",
    "        _, train_pred = torch.max(outputs,1)\n",
    "        batch_loss.backward()\n",
    "        optimizer.step()\n",
    "\n",
    "        train_acc += (train_pred.cpu() == y.cpu()).sum().item()\n",
    "        train_loss += batch_loss\n",
    "\n",
    "    # validition\n",
    "    if len(val_set)>0:\n",
    "        model.eval()\n",
    "        with torch.no_grad():\n",
    "            for i ,data in enumerate(val_loader):\n",
    "                x, y = data\n",
    "                x, y = x.to(device), y.to(device)\n",
    "                outputs = model(x)\n",
    "                batch_loss = criterion(outputs,y)\n",
    "                _, val_pred = torch.max(outputs,1)\n",
    "\n",
    "                val_acc += (val_pred.cpu() == y.cpu()).sum().item()\n",
    "                val_loss += batch_loss.item()\n",
    "\n",
    "            print('[{:03d}/{:03d}] Train ACC : {:3.6f}  Loss: {:3.6f} | Val Acc: {:3.6f} loss: {:3.6f}'.format(epoch+1, num_epoch, train_acc/len(train_set), val_acc/len(val_set), )) \n",
    "\n",
    "# if not validating, save the last epoch\n",
    "if len(val_set) == 0 :\n",
    "    torch.save(model.state_dict(), model_path)\n",
    "    print('saving model at last epoch')"
   ]
  },
  {
   "source": [
    "# Testing\n",
    "\n",
    "Create a testing dataset, and load model from the saved checkpoint."
   ],
   "cell_type": "markdown",
   "metadata": {}
  },
  {
   "cell_type": "code",
   "execution_count": null,
   "metadata": {},
   "outputs": [],
   "source": [
    "# create testing dataset\n",
    "test_set = TIMITDataset(test, None)\n",
    "test_loader = Dataloader(test_set, batch_size=BATCH_SIZE, shuffle=False)\n",
    "\n",
    "# create model and load weights from checkpoint\n",
    "\n",
    "model = Classifier().to(device)\n",
    "model.load_state_dict(torch.load(model_path))\n",
    "\n"
   ]
  },
  {
   "source": [
    "make prediction"
   ],
   "cell_type": "markdown",
   "metadata": {}
  },
  {
   "cell_type": "code",
   "execution_count": null,
   "metadata": {},
   "outputs": [],
   "source": [
    "predict=[]\n",
    "model.eval()\n",
    "with torch.no_grad():\n",
    "    for i, data in enumerate(test_loader):\n",
    "        "
   ]
  }
 ],
 "metadata": {
  "kernelspec": {
   "name": "python3613jvsc74a57bd0c5f7038545424c165d4933a62f70e65062642e986918b5e93ab49c2c56846d04",
   "display_name": "Python 3.6.13 64-bit ('pytorch38': conda)"
  },
  "language_info": {
   "codemirror_mode": {
    "name": "ipython",
    "version": 3
   },
   "file_extension": ".py",
   "mimetype": "text/x-python",
   "name": "python",
   "nbconvert_exporter": "python",
   "pygments_lexer": "ipython3",
   "version": "3.6.13"
  }
 },
 "nbformat": 4,
 "nbformat_minor": 5
}